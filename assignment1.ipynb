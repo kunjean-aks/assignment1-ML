{
 "cells": [
  {
   "cell_type": "markdown",
   "id": "8a29a897",
   "metadata": {},
   "source": [
    "# list exercise "
   ]
  },
  {
   "cell_type": "code",
   "execution_count": 1,
   "id": "9b15f6d0",
   "metadata": {},
   "outputs": [
    {
     "name": "stdout",
     "output_type": "stream",
     "text": [
      "259\n"
     ]
    }
   ],
   "source": [
    "#pb .1\n",
    "a=list([1,34,56,78,90])\n",
    "def sum_of_elements(x):\n",
    "    i=0\n",
    "    a=0\n",
    "    while i< len(x):\n",
    "        a+=x[i]\n",
    "        i+=1\n",
    "    return a\n",
    "print(sum_of_elements(a))"
   ]
  },
  {
   "cell_type": "code",
   "execution_count": 9,
   "id": "0263d70b",
   "metadata": {},
   "outputs": [
    {
     "name": "stdout",
     "output_type": "stream",
     "text": [
      "please enter numbers  within list85,89\n",
      "[78]\n",
      "[]\n"
     ]
    }
   ],
   "source": [
    "#pb2.\n",
    "input1=[int(x) for x in input('please enter numbers  within list').split(',')]\n",
    "def odd_remover(x):\n",
    "    y=[]\n",
    "    for i in x:\n",
    "         if i%2==0:\n",
    "                y.append(i)\n",
    "    return y\n",
    "print(odd_remover([78,85]))\n",
    "print(odd_remover(input1))\n",
    "\n",
    "            \n",
    "    "
   ]
  },
  {
   "cell_type": "code",
   "execution_count": 10,
   "id": "5f325641",
   "metadata": {},
   "outputs": [],
   "source": [
    "#pb3.\n",
    "def nodoubles(x):\n",
    "    for i in x:\n",
    "        if i in x[:i]:\n",
    "            x.remove(i)\n",
    "    return x\n",
    "            "
   ]
  },
  {
   "cell_type": "code",
   "execution_count": 13,
   "id": "ace7b6b5",
   "metadata": {},
   "outputs": [
    {
     "name": "stdout",
     "output_type": "stream",
     "text": [
      "5485\n"
     ]
    }
   ],
   "source": [
    "#pb.4\n",
    "def _2ndlargest(x):\n",
    "    if len(x)<2:\n",
    "        return 'sorry lady/gentleman  you should have entered a list containing atleast two characters'\n",
    "    else:\n",
    "        z=sorted(x)\n",
    "        return z[len(x)-2]\n",
    "b=[78,85,89,654,5485,465,49632]\n",
    "print(_2ndlargest(b))"
   ]
  },
  {
   "cell_type": "code",
   "execution_count": 45,
   "id": "a01178bd",
   "metadata": {},
   "outputs": [],
   "source": [
    "#pb.5\n",
    "a_list=['qwerty','keyboard','is','a','mess','of','alphabetical','order','but','is','useful']\n",
    "#couldnt shuffle a list\n"
   ]
  },
  {
   "cell_type": "markdown",
   "id": "18eed2c9",
   "metadata": {},
   "source": [
    "# Tuple exercises"
   ]
  },
  {
   "cell_type": "code",
   "execution_count": null,
   "id": "402dddf0",
   "metadata": {},
   "outputs": [],
   "source": [
    "# reversing a tuple\n",
    "def inverter(x):\n",
    "    y=list(x)\n",
    "    z=[]\n",
    "    for i in range(len(y)):\n",
    "         z.append(y[-1-i])\n",
    "    y=tuple(z)\n",
    "    return y\n",
    "print(inverter((4,5,6)))\n",
    "    \n",
    "\n",
    "    "
   ]
  },
  {
   "cell_type": "code",
   "execution_count": 15,
   "id": "80cee3fe",
   "metadata": {},
   "outputs": [
    {
     "name": "stdout",
     "output_type": "stream",
     "text": [
      "pehlA tuple85,p,56\n",
      "doosra tuple89,p,56\n",
      "(3,)\n",
      "('p', '56')\n"
     ]
    }
   ],
   "source": [
    "#function which takes two tuples as input and gives a list of common parts\n",
    "input1=tuple(x for x in input('first tuple').split(','))\n",
    "input2=tuple(x for x in input('second tuple').split(','))\n",
    "def intersector(x,y):\n",
    "    \n",
    "    z=[]\n",
    "    if len(x)>len(y):\n",
    "        larger_one=x\n",
    "        smaller_one=y\n",
    "    else:\n",
    "        larger_one=y\n",
    "        smaller_one=x\n",
    "    for i in larger_one:\n",
    "        if i in smaller_one:\n",
    "            z.append(i)\n",
    "    z=tuple(z)\n",
    "    return z\n",
    "print(intersector((1,2,3),(3,4,5)))\n",
    "# no error uptil now\n",
    "print(intersector(input1,input2))\n",
    "        "
   ]
  },
  {
   "cell_type": "code",
   "execution_count": null,
   "id": "a2bc4250",
   "metadata": {},
   "outputs": [],
   "source": [
    "#function which converts tuple to a string\n",
    "def tuple_to_string(x):\n",
    "    a=''\n",
    "    for i in x:\n",
    "        if type(i)==str:\n",
    "            a=a+i\n",
    "        else:\n",
    "            a=a+str(i)\n",
    "    return a\n",
    "#print(tuple_to_string(('boron is an element',57,True)))"
   ]
  },
  {
   "cell_type": "code",
   "execution_count": null,
   "id": "121ae078",
   "metadata": {},
   "outputs": [],
   "source": [
    "#  a function to find index of an element(say x)in a tuple(say y)\n",
    "def indexfinder(x,y):\n",
    "    for i in range(len(y)):\n",
    "        if y[i]==x :\n",
    "            return i\n",
    "        elif i!= len(y)-1:\n",
    "            pass\n",
    "        else:\n",
    "            return 'element is not in tuple'\n",
    "print(indexfinder(9,(87,'kjl')))"
   ]
  },
  {
   "cell_type": "code",
   "execution_count": 38,
   "id": "899ba0e6",
   "metadata": {},
   "outputs": [
    {
     "name": "stdout",
     "output_type": "stream",
     "text": [
      "(12, 13, 14, 15, 16, 17)\n"
     ]
    }
   ],
   "source": [
    "#programme to concatenate two tuples\n",
    "def tuple_adder(x,y):\n",
    "    x=list(x)\n",
    "    y=list(y)\n",
    "    x.extend(y)\n",
    "    return tuple(x)\n",
    "print(tuple_adder((12,13,14),(15,16,17)))\n"
   ]
  },
  {
   "cell_type": "markdown",
   "id": "106556db",
   "metadata": {},
   "source": [
    "# set exercises\n"
   ]
  },
  {
   "cell_type": "code",
   "execution_count": null,
   "id": "4244f3f9",
   "metadata": {},
   "outputs": [],
   "source": [
    "#creating a set\n",
    "a=set((1,2,3))\n",
    "a"
   ]
  },
  {
   "cell_type": "code",
   "execution_count": 22,
   "id": "dc331a74",
   "metadata": {},
   "outputs": [],
   "source": [
    "# programme to find intersection\n",
    "def intersection(x,y):\n",
    "    x=list(x)\n",
    "    y=list(y)\n",
    "    z=[]\n",
    "    if len(x)>len(y):\n",
    "        larger_one=x\n",
    "        smaller_one=y\n",
    "    else:\n",
    "        larger_one=y\n",
    "        smaller_one=x\n",
    "    for i in larger_one:\n",
    "        if i in smaller_one:\n",
    "            z.append(i)\n",
    "    return z\n"
   ]
  },
  {
   "cell_type": "code",
   "execution_count": null,
   "id": "00b4a508",
   "metadata": {},
   "outputs": [],
   "source": [
    "#check for subsets\n",
    "def subsetfinder(a,b):\n",
    "    a=list(a)\n",
    "    b=list(b)\n",
    "    for i in a:\n",
    "        if i not in b :\n",
    "             return  ' first set is not a subset second set'\n",
    "    return 'first set is  a subset second set'\n",
    "    \n",
    "\n",
    "        \n",
    "        \n",
    "             \n",
    "c={1,23,45,67,89,'f'}\n",
    "d={11,23,'f'}\n",
    "print(subsetfinder({},{1}))"
   ]
  },
  {
   "cell_type": "code",
   "execution_count": 42,
   "id": "bcf92263",
   "metadata": {},
   "outputs": [
    {
     "data": {
      "text/plain": [
       "{'0', 1, '21', 21, 23, 45, 67, 89, 'f', 'ff'}"
      ]
     },
     "execution_count": 42,
     "metadata": {},
     "output_type": "execute_result"
    }
   ],
   "source": [
    "def union_of_sets(a,b):\n",
    "    a=list(a)\n",
    "    b=list(b)\n",
    "    for i in a:\n",
    "        b.append(i)\n",
    "    b=set(b)\n",
    "    return b\n",
    "union_of_sets({1,23,45,67,89,'f','0','21'},{21,23,'f','ff'})"
   ]
  },
  {
   "cell_type": "code",
   "execution_count": 23,
   "id": "a48ba61f",
   "metadata": {},
   "outputs": [
    {
     "name": "stdout",
     "output_type": "stream",
     "text": [
      "list the elements of first set95,/,856\n",
      "list the elements of second set95,856,llll\n",
      "['95', '856']\n"
     ]
    }
   ],
   "source": [
    "# programme to take two inputs and return their common elements\n",
    "p=set([x for x in input('list the elements of first set').split(',')])\n",
    "q=set([x for x in input('list the elements of second set').split(',')])\n",
    "def common_elements(x,y):\n",
    "    z=intersection(x,y) \n",
    "    return z\n",
    "print(common_elements(p,q))\n"
   ]
  },
  {
   "cell_type": "code",
   "execution_count": 44,
   "id": "56f6d531",
   "metadata": {},
   "outputs": [
    {
     "data": {
      "text/plain": [
       "set()"
      ]
     },
     "execution_count": 44,
     "metadata": {},
     "output_type": "execute_result"
    }
   ],
   "source": [
    "#solution to pb5 and also solution to pb3\n",
    "def difference(a,b):\n",
    "    c=[]\n",
    "    for i in a:\n",
    "        if i not in b:\n",
    "            c.append(i)\n",
    "    return set(c)\n",
    "d={'q',5,'qwerty'}\n",
    "difference(d,d)"
   ]
  },
  {
   "cell_type": "code",
   "execution_count": null,
   "id": "094f28a6",
   "metadata": {},
   "outputs": [],
   "source": [
    "#symmetric difference of two sets\n",
    "def symmetric_difference(a,b):\n",
    "     return union_of_sets(difference(a,b),difference(b,a))\n",
    "symmetric_difference(c,d)"
   ]
  },
  {
   "cell_type": "markdown",
   "id": "6d40f122",
   "metadata": {},
   "source": [
    "# dictionaries"
   ]
  },
  {
   "cell_type": "code",
   "execution_count": 29,
   "id": "134503d5",
   "metadata": {},
   "outputs": [
    {
     "name": "stdout",
     "output_type": "stream",
     "text": [
      "no\n"
     ]
    }
   ],
   "source": [
    "#to check if a given key exists in dict\n",
    "car={'brand':'ford','model':'mustang','year':2124}\n",
    "def key_checker(a,b):\n",
    "    c=b.keys()\n",
    "    if a in c:\n",
    "        return \"yes \"\n",
    "    else:\n",
    "        return 'no'\n",
    "print(key_checker('bus',car))  "
   ]
  },
  {
   "cell_type": "code",
   "execution_count": null,
   "id": "5a2c59f4",
   "metadata": {},
   "outputs": [],
   "source": [
    "#a function which iterates over key value pairs and prints them\n",
    "def pair_printer(dic):\n",
    "    for i in dic:\n",
    "        print(i,dic[i])\n",
    "\n",
    "pair_printer(car)"
   ]
  },
  {
   "cell_type": "code",
   "execution_count": null,
   "id": "6f45df4e",
   "metadata": {},
   "outputs": [],
   "source": [
    "#programme for combining two dictionaries and adding values of common keys\n",
    "def key_combine(dic1,dic2):\n",
    "    for i in dic1:\n",
    "        if i in dic2:\n",
    "                dic2[i]=str(dic1[i])+str(dic2[i])\n",
    "        else:\n",
    "            dic2[i]=dic1[i]\n",
    "    return dic2\n",
    "bus={'bus':'haryana roadways','brand':'Tata','AC':'absent'}\n",
    "key_combine(bus,car)\n"
   ]
  },
  {
   "cell_type": "code",
   "execution_count": 37,
   "id": "908a77de",
   "metadata": {},
   "outputs": [
    {
     "data": {
      "text/plain": [
       "2082"
      ]
     },
     "execution_count": 37,
     "metadata": {},
     "output_type": "execute_result"
    }
   ],
   "source": [
    "#a function which takes input and gives sum of all values\n",
    "def f(x):\n",
    "    try:\n",
    "        sum=0\n",
    "        for i in x:\n",
    "            sum+=x[i]\n",
    "        return sum\n",
    "    except:\n",
    "        return 'all values in dictionary should belong to the set of all complex numbers but the dictionary given was not such'\n",
    "f({'car':85,'year':1995,'life':2})\n",
    "            "
   ]
  },
  {
   "cell_type": "code",
   "execution_count": 36,
   "id": "aeb70ee7",
   "metadata": {},
   "outputs": [],
   "source": [
    "#programme to sort dictionaries by values\n",
    "#couldnt do it"
   ]
  },
  {
   "cell_type": "code",
   "execution_count": null,
   "id": "ed52e57c",
   "metadata": {},
   "outputs": [],
   "source": []
  }
 ],
 "metadata": {
  "kernelspec": {
   "display_name": "Python 3 (ipykernel)",
   "language": "python",
   "name": "python3"
  },
  "language_info": {
   "codemirror_mode": {
    "name": "ipython",
    "version": 3
   },
   "file_extension": ".py",
   "mimetype": "text/x-python",
   "name": "python",
   "nbconvert_exporter": "python",
   "pygments_lexer": "ipython3",
   "version": "3.11.5"
  }
 },
 "nbformat": 4,
 "nbformat_minor": 5
}
